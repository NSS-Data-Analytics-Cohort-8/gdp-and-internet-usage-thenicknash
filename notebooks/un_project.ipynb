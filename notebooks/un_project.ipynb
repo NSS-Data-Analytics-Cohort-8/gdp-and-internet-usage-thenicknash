{
 "cells": [
  {
   "cell_type": "markdown",
   "id": "9b63e0cf",
   "metadata": {},
   "source": [
    "# UN Data Project - GDP and Internet Usage"
   ]
  },
  {
   "cell_type": "code",
   "execution_count": 157,
   "id": "7ff5aa49",
   "metadata": {},
   "outputs": [],
   "source": [
    "import pandas as pd\n",
    "import numpy as np\n",
    "import matplotlib.pyplot as plt\n",
    "import seaborn as sns\n",
    "%matplotlib inline"
   ]
  },
  {
   "cell_type": "markdown",
   "id": "1960d319",
   "metadata": {},
   "source": [
    "Using the pandas read_csv() method, read the GDP dataset into your notebook as a DataFrame called gdp_df. Take a look at the first few and last few rows to familiarize yourself with what is contained in this dataset."
   ]
  },
  {
   "cell_type": "code",
   "execution_count": 158,
   "id": "aebe587a",
   "metadata": {},
   "outputs": [
    {
     "name": "stdout",
     "output_type": "stream",
     "text": [
      "  Country or Area  Year        Value  Value Footnotes\n",
      "0     Afghanistan  2020  1970.560169              NaN\n",
      "1     Afghanistan  2019  2065.036235              NaN\n",
      "2     Afghanistan  2018  2033.804389              NaN\n",
      "3     Afghanistan  2017  2058.400221              NaN\n",
      "4     Afghanistan  2016  2057.067978              NaN\n",
      "     Country or Area  Year        Value  Value Footnotes\n",
      "7171        Zimbabwe  1994  2603.927369              NaN\n",
      "7172        Zimbabwe  1993  2420.092791              NaN\n",
      "7173        Zimbabwe  1992  2437.152908              NaN\n",
      "7174        Zimbabwe  1991  2733.696626              NaN\n",
      "7175        Zimbabwe  1990  2652.129209              NaN\n"
     ]
    }
   ],
   "source": [
    "gdp_df = pd.read_csv('../data/gdp_percapita.csv')\n",
    "print(gdp_df.head())\n",
    "print(gdp_df.tail())"
   ]
  },
  {
   "cell_type": "markdown",
   "id": "bbf4fe0c",
   "metadata": {},
   "source": [
    "<b>How many rows and columns are in gdp_df? What are the data types of each column?</b>"
   ]
  },
  {
   "cell_type": "code",
   "execution_count": 159,
   "id": "9df35c3d",
   "metadata": {},
   "outputs": [
    {
     "name": "stdout",
     "output_type": "stream",
     "text": [
      "Country or Area     object\n",
      "Year                 int64\n",
      "Value              float64\n",
      "Value Footnotes    float64\n",
      "dtype: object\n"
     ]
    }
   ],
   "source": [
    "print(gdp_df.dtypes)"
   ]
  },
  {
   "cell_type": "markdown",
   "id": "3eeb5692",
   "metadata": {},
   "source": [
    "There are 7,175 rows and 4 columns. The column data types can be seen in the above cell."
   ]
  },
  {
   "cell_type": "markdown",
   "id": "e23c1765",
   "metadata": {},
   "source": [
    "<b>Drop the Value Footnotes column and rename the remaining three to 'Country', 'Year', and 'GDP_Per_Capita'.</b>"
   ]
  },
  {
   "cell_type": "code",
   "execution_count": 160,
   "id": "f0f5d0b4",
   "metadata": {},
   "outputs": [
    {
     "name": "stdout",
     "output_type": "stream",
     "text": [
      "       Country  Year  GDP_Per_Capita\n",
      "0  Afghanistan  2020     1970.560169\n",
      "1  Afghanistan  2019     2065.036235\n",
      "2  Afghanistan  2018     2033.804389\n",
      "3  Afghanistan  2017     2058.400221\n",
      "4  Afghanistan  2016     2057.067978\n"
     ]
    }
   ],
   "source": [
    "gdp_df.drop('Value Footnotes', axis=1, inplace=True)\n",
    "gdp_df.rename(columns={'Country or Area': 'Country', 'Value': 'GDP_Per_Capita'}, inplace=True)\n",
    "print(gdp_df.head())"
   ]
  },
  {
   "attachments": {},
   "cell_type": "markdown",
   "id": "d7ed4528",
   "metadata": {},
   "source": [
    "<b>How many countries have data for all years? Which countries are missing many years of data? Look at the number of observations per year. What do you notice?</b>"
   ]
  },
  {
   "cell_type": "code",
   "execution_count": 161,
   "id": "c6dd8664",
   "metadata": {},
   "outputs": [
    {
     "name": "stdout",
     "output_type": "stream",
     "text": [
      "Number of countries with data all years:  205\n",
      "Number of countries missing 10+ years:    8\n",
      "Year\n",
      "1990    206\n",
      "1991    207\n",
      "1992    208\n",
      "1993    209\n",
      "1994    211\n",
      "1995    222\n",
      "1996    222\n",
      "1997    226\n",
      "1998    226\n",
      "1999    227\n",
      "2000    233\n",
      "2001    234\n",
      "2002    235\n",
      "2003    235\n",
      "2004    236\n",
      "2005    236\n",
      "2006    237\n",
      "2007    237\n",
      "2008    238\n",
      "2009    239\n",
      "2010    239\n",
      "2011    240\n",
      "2012    240\n",
      "2013    242\n",
      "2014    242\n",
      "2015    242\n",
      "2016    242\n",
      "2017    242\n",
      "2018    242\n",
      "2019    241\n",
      "2020    240\n",
      "Name: Country, dtype: int64\n"
     ]
    }
   ],
   "source": [
    "min_year = gdp_df['Year'].min()\n",
    "max_year = gdp_df['Year'].max()\n",
    "\n",
    "# Using a lambda function to filter for countries with data for every year\n",
    "countries_with_data_df = gdp_df.groupby('Country').filter(lambda x: len(x) == (max_year - min_year + 1)).nunique()\n",
    "print('Number of countries with data all years: ', countries_with_data_df['Country'])\n",
    "\n",
    "# We are defining many years as 10 or more years of data\n",
    "countries_missing_data_df = gdp_df.groupby('Country').filter(lambda x: len(x) < (max_year - min_year - 10)).nunique()\n",
    "print('Number of countries missing 10+ years:   ', countries_missing_data_df['Country'])\n",
    "\n",
    "# Getting the number of observations per year\n",
    "observations_per_year_df = gdp_df.groupby('Year').count()\n",
    "print(observations_per_year_df['Country'])\n"
   ]
  },
  {
   "attachments": {},
   "cell_type": "markdown",
   "id": "17741342",
   "metadata": {},
   "source": [
    "205 countries have data reported for every year. 8 countries have missed 10 or more years. The total number of observations per year has steadily increased until 2019 and 2020 where 1 and 2 countries, respectively, did not report data."
   ]
  }
 ],
 "metadata": {
  "kernelspec": {
   "display_name": "Python 3 (ipykernel)",
   "language": "python",
   "name": "python3"
  },
  "language_info": {
   "codemirror_mode": {
    "name": "ipython",
    "version": 3
   },
   "file_extension": ".py",
   "mimetype": "text/x-python",
   "name": "python",
   "nbconvert_exporter": "python",
   "pygments_lexer": "ipython3",
   "version": "3.10.9"
  }
 },
 "nbformat": 4,
 "nbformat_minor": 5
}
