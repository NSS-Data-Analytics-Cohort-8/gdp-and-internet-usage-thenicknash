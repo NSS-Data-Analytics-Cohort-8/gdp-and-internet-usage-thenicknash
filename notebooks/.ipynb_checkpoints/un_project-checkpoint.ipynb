{
 "cells": [
  {
   "cell_type": "markdown",
   "id": "9b63e0cf",
   "metadata": {},
   "source": [
    "# UN Data Project - GDP and Internet Usage"
   ]
  },
  {
   "cell_type": "code",
   "execution_count": 30,
   "id": "7ff5aa49",
   "metadata": {},
   "outputs": [],
   "source": [
    "import pandas as pd\n",
    "import numpy as np\n",
    "import matplotlib.pyplot as plt\n",
    "import seaborn as sns\n",
    "%matplotlib inline"
   ]
  },
  {
   "cell_type": "markdown",
   "id": "1960d319",
   "metadata": {},
   "source": [
    "Using the pandas read_csv() method, read the GDP dataset into your notebook as a DataFrame called gdp_df. Take a look at the first few and last few rows to familiarize yourself with what is contained in this dataset."
   ]
  },
  {
   "cell_type": "code",
   "execution_count": 31,
   "id": "aebe587a",
   "metadata": {},
   "outputs": [
    {
     "name": "stdout",
     "output_type": "stream",
     "text": [
      "  Country or Area  Year        Value  Value Footnotes\n",
      "0     Afghanistan  2020  1970.560169              NaN\n",
      "1     Afghanistan  2019  2065.036235              NaN\n",
      "2     Afghanistan  2018  2033.804389              NaN\n",
      "3     Afghanistan  2017  2058.400221              NaN\n",
      "4     Afghanistan  2016  2057.067978              NaN\n",
      "     Country or Area  Year        Value  Value Footnotes\n",
      "7171        Zimbabwe  1994  2603.927369              NaN\n",
      "7172        Zimbabwe  1993  2420.092791              NaN\n",
      "7173        Zimbabwe  1992  2437.152908              NaN\n",
      "7174        Zimbabwe  1991  2733.696626              NaN\n",
      "7175        Zimbabwe  1990  2652.129209              NaN\n"
     ]
    }
   ],
   "source": [
    "gdp_df = pd.read_csv('../data/gdp_percapita.csv')\n",
    "print(gdp_df.head())\n",
    "print(gdp_df.tail())"
   ]
  },
  {
   "cell_type": "markdown",
   "id": "bbf4fe0c",
   "metadata": {},
   "source": [
    "<b>How many rows and columns are in gdp_df? What are the data types of each column?</b>"
   ]
  },
  {
   "cell_type": "code",
   "execution_count": 32,
   "id": "9df35c3d",
   "metadata": {},
   "outputs": [
    {
     "name": "stdout",
     "output_type": "stream",
     "text": [
      "Country or Area     object\n",
      "Year                 int64\n",
      "Value              float64\n",
      "Value Footnotes    float64\n",
      "dtype: object\n"
     ]
    }
   ],
   "source": [
    "print(gdp_df.dtypes)"
   ]
  },
  {
   "cell_type": "markdown",
   "id": "3eeb5692",
   "metadata": {},
   "source": [
    "There are 7,175 rows and 4 columns. The column data types can be seen in the above cell."
   ]
  },
  {
   "cell_type": "markdown",
   "id": "e23c1765",
   "metadata": {},
   "source": [
    "<b>Drop the Value Footnotes column and rename the remaining three to 'Country', 'Year', and 'GDP_Per_Capita'.</b>"
   ]
  },
  {
   "cell_type": "code",
   "execution_count": 33,
   "id": "f0f5d0b4",
   "metadata": {},
   "outputs": [
    {
     "name": "stdout",
     "output_type": "stream",
     "text": [
      "  Country or Area  Year        Value\n",
      "0     Afghanistan  2020  1970.560169\n",
      "1     Afghanistan  2019  2065.036235\n",
      "2     Afghanistan  2018  2033.804389\n",
      "3     Afghanistan  2017  2058.400221\n",
      "4     Afghanistan  2016  2057.067978\n"
     ]
    }
   ],
   "source": [
    "gdp_df.drop('Value Footnotes', axis=1, inplace=True)\n",
    "gdp_df.rename({'Country or Area': 'Country', 'Value': 'GDP_Per_Capita'}, axis='index', inplace=True)\n",
    "print(gdp_df.head())"
   ]
  },
  {
   "cell_type": "code",
   "execution_count": null,
   "id": "e63437bd",
   "metadata": {},
   "outputs": [],
   "source": []
  }
 ],
 "metadata": {
  "kernelspec": {
   "display_name": "Python 3 (ipykernel)",
   "language": "python",
   "name": "python3"
  },
  "language_info": {
   "codemirror_mode": {
    "name": "ipython",
    "version": 3
   },
   "file_extension": ".py",
   "mimetype": "text/x-python",
   "name": "python",
   "nbconvert_exporter": "python",
   "pygments_lexer": "ipython3",
   "version": "3.10.9"
  }
 },
 "nbformat": 4,
 "nbformat_minor": 5
}
